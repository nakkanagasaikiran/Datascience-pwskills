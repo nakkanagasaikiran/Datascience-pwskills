{
 "cells": [
  {
   "cell_type": "markdown",
   "id": "2ecc7ac4-c01e-4e63-a9ae-4dbd00034c7e",
   "metadata": {},
   "source": [
    "Basic variable based questions"
   ]
  },
  {
   "cell_type": "markdown",
   "id": "9dd4f95a-9f48-48d5-8670-03b91f8e9c43",
   "metadata": {},
   "source": [
    "1. Declare two variables, `x` and `y`, and assign them integer values. Swap the values of these variables without using any temporary variable.Basic variable based questions"
   ]
  },
  {
   "cell_type": "code",
   "execution_count": 5,
   "id": "f58b92a2-25ba-4293-84da-6d68e776eb94",
   "metadata": {},
   "outputs": [],
   "source": [
    "x=10\n",
    "y=20"
   ]
  },
  {
   "cell_type": "code",
   "execution_count": 6,
   "id": "865a05e7-24ea-4284-9d3e-0a53907dd601",
   "metadata": {},
   "outputs": [],
   "source": [
    "x,y = y,x"
   ]
  },
  {
   "cell_type": "code",
   "execution_count": 7,
   "id": "fbf979bc-5d1b-4541-a227-f5fd12b65a74",
   "metadata": {},
   "outputs": [
    {
     "data": {
      "text/plain": [
       "10"
      ]
     },
     "execution_count": 7,
     "metadata": {},
     "output_type": "execute_result"
    }
   ],
   "source": [
    "y"
   ]
  },
  {
   "cell_type": "code",
   "execution_count": 8,
   "id": "86630063-9c65-43f3-9abc-aa1681a7767f",
   "metadata": {},
   "outputs": [
    {
     "data": {
      "text/plain": [
       "20"
      ]
     },
     "execution_count": 8,
     "metadata": {},
     "output_type": "execute_result"
    }
   ],
   "source": [
    "x"
   ]
  },
  {
   "cell_type": "markdown",
   "id": "9fcbf64f-efe1-4cbb-b8c3-21242b25a4f5",
   "metadata": {},
   "source": [
    "2. Create a program that calculates the area of a rectangle. Take the length and width as inputs from the user and store them in variables. Calculate and display the area."
   ]
  },
  {
   "cell_type": "code",
   "execution_count": 32,
   "id": "5eff3190-a4b7-4a40-86a1-497cc956d52b",
   "metadata": {},
   "outputs": [
    {
     "name": "stdin",
     "output_type": "stream",
     "text": [
      "Enter the length of the rectangle:  22.50\n",
      "Enter the width of the rectangle:  25.10\n"
     ]
    }
   ],
   "source": [
    "length = float(input(\"Enter the length of the rectangle: \"))\n",
    "width = float(input(\"Enter the width of the rectangle: \"))"
   ]
  },
  {
   "cell_type": "code",
   "execution_count": 33,
   "id": "4bfcb7db-d3dd-4e93-b20d-419ef4440168",
   "metadata": {},
   "outputs": [],
   "source": [
    "area = length * width"
   ]
  },
  {
   "cell_type": "code",
   "execution_count": 34,
   "id": "a95e687f-bcbd-4af7-89be-1717b39f596b",
   "metadata": {},
   "outputs": [
    {
     "data": {
      "text/plain": [
       "564.75"
      ]
     },
     "execution_count": 34,
     "metadata": {},
     "output_type": "execute_result"
    }
   ],
   "source": [
    "area"
   ]
  },
  {
   "cell_type": "markdown",
   "id": "6c607fc2-7c92-48bd-9de9-56b01cb97d35",
   "metadata": {},
   "source": [
    "3. Write a Python program that converts temperatures from Celsius to Fahrenheit. Take the temperature in Celsius as input, store it in a variable, convert it to Fahrenheit, and display the result."
   ]
  },
  {
   "cell_type": "code",
   "execution_count": 29,
   "id": "5dd2f162-b894-4c62-8f19-25e482ab3ae0",
   "metadata": {},
   "outputs": [
    {
     "name": "stdin",
     "output_type": "stream",
     "text": [
      "Enter the temperature in Celsius:  18.40\n"
     ]
    }
   ],
   "source": [
    "celsius = float(input(\"Enter the temperature in Celsius: \"))"
   ]
  },
  {
   "cell_type": "code",
   "execution_count": 30,
   "id": "a78b485d-0dc8-4dfe-bc64-1b6ab7c6643b",
   "metadata": {},
   "outputs": [],
   "source": [
    "fahrenheit = (celsius * 9/5) + 32"
   ]
  },
  {
   "cell_type": "code",
   "execution_count": 31,
   "id": "f2122c12-c39c-4d6d-95cb-a3385f4a918e",
   "metadata": {},
   "outputs": [
    {
     "data": {
      "text/plain": [
       "65.12"
      ]
     },
     "execution_count": 31,
     "metadata": {},
     "output_type": "execute_result"
    }
   ],
   "source": [
    "fahrenheit"
   ]
  },
  {
   "cell_type": "markdown",
   "id": "1acb7162-cfb7-419c-bd2f-16c65fbe942c",
   "metadata": {},
   "source": [
    "String based questions"
   ]
  },
  {
   "cell_type": "markdown",
   "id": "fe323c0e-b41a-4984-833d-f2187c70281f",
   "metadata": {},
   "source": [
    "1. Write a Python program that takes a string as input and prints the length of the string."
   ]
  },
  {
   "cell_type": "code",
   "execution_count": 35,
   "id": "9788223a-fba3-49ac-963d-ce9bace55738",
   "metadata": {},
   "outputs": [
    {
     "name": "stdin",
     "output_type": "stream",
     "text": [
      "Enter your Name:  saikiran\n"
     ]
    }
   ],
   "source": [
    "name = input(\"Enter your Name: \")"
   ]
  },
  {
   "cell_type": "code",
   "execution_count": 36,
   "id": "ea15f0bc-54da-44ec-b79a-21733c7d4574",
   "metadata": {},
   "outputs": [
    {
     "data": {
      "text/plain": [
       "8"
      ]
     },
     "execution_count": 36,
     "metadata": {},
     "output_type": "execute_result"
    }
   ],
   "source": [
    "len(name)"
   ]
  },
  {
   "cell_type": "markdown",
   "id": "1ad7936a-fdf2-4970-98fc-666fe17c9688",
   "metadata": {},
   "source": [
    "2. Create a program that takes a sentence from the user and counts the number of vowels (a, e, i, o, u) in the string."
   ]
  },
  {
   "cell_type": "code",
   "execution_count": 37,
   "id": "7c4b66ab-0962-40d5-b97f-0f6072d7e5bc",
   "metadata": {},
   "outputs": [
    {
     "name": "stdin",
     "output_type": "stream",
     "text": [
      "Enter a sentence:  i am learning datascience course\n"
     ]
    }
   ],
   "source": [
    "sentence = input(\"Enter a sentence: \")"
   ]
  },
  {
   "cell_type": "code",
   "execution_count": 38,
   "id": "5cb7d31d-2801-420a-92d0-04492c73bbda",
   "metadata": {},
   "outputs": [],
   "source": [
    "vowel_count = sentence.count('a') + sentence.count('e') + sentence.count('i') + sentence.count('o') + sentence.count('u')"
   ]
  },
  {
   "cell_type": "code",
   "execution_count": 39,
   "id": "0030b5e7-1b84-4d9e-bf58-703e95061c35",
   "metadata": {},
   "outputs": [
    {
     "data": {
      "text/plain": [
       "13"
      ]
     },
     "execution_count": 39,
     "metadata": {},
     "output_type": "execute_result"
    }
   ],
   "source": [
    "vowel_count"
   ]
  },
  {
   "cell_type": "markdown",
   "id": "a22a3782-dad1-4fed-8592-2087fda8465d",
   "metadata": {},
   "source": [
    "3. Given a string, reverse the order of characters using string slicing and print the reversed string."
   ]
  },
  {
   "cell_type": "code",
   "execution_count": 40,
   "id": "96c2ab67-f690-4efd-82af-1fbb2e9ee881",
   "metadata": {},
   "outputs": [
    {
     "name": "stdin",
     "output_type": "stream",
     "text": [
      "Enter your Name:  saikiran\n"
     ]
    }
   ],
   "source": [
    "name = input(\"Enter your Name: \")"
   ]
  },
  {
   "cell_type": "code",
   "execution_count": 41,
   "id": "842fca83-7d81-49a4-8d29-1fc699fdd4ae",
   "metadata": {},
   "outputs": [],
   "source": [
    "reverse_name = name[::-1]"
   ]
  },
  {
   "cell_type": "code",
   "execution_count": 42,
   "id": "56d0e2cc-2a64-4bd7-956d-33fcb7046ad1",
   "metadata": {},
   "outputs": [
    {
     "data": {
      "text/plain": [
       "'narikias'"
      ]
     },
     "execution_count": 42,
     "metadata": {},
     "output_type": "execute_result"
    }
   ],
   "source": [
    "reverse_name"
   ]
  },
  {
   "cell_type": "markdown",
   "id": "97416421-e9aa-4142-b469-5da2b430c78b",
   "metadata": {},
   "source": [
    "4. Write a program that takes a string as input and checks if it is a palindrome (reads the same forwards and backwards)."
   ]
  },
  {
   "cell_type": "code",
   "execution_count": 51,
   "id": "472d22cb-0058-4d48-bd09-9b9ec0cb48d3",
   "metadata": {},
   "outputs": [
    {
     "name": "stdin",
     "output_type": "stream",
     "text": [
      "Enter some word:  madam\n"
     ]
    }
   ],
   "source": [
    "word = input(\"Enter some word: \")"
   ]
  },
  {
   "cell_type": "code",
   "execution_count": 52,
   "id": "3839b43f-a62e-4f22-80a1-61dd776fd574",
   "metadata": {},
   "outputs": [],
   "source": [
    "reverse_word = word[::-1]"
   ]
  },
  {
   "cell_type": "code",
   "execution_count": 53,
   "id": "07e39f72-d725-47c8-8338-bdb052620874",
   "metadata": {},
   "outputs": [
    {
     "name": "stdout",
     "output_type": "stream",
     "text": [
      "palindrome\n"
     ]
    }
   ],
   "source": [
    "if word == reverse_word:\n",
    "    print(\"palindrome\")\n",
    "else:\n",
    "    print(\"not palindrome\")"
   ]
  },
  {
   "cell_type": "markdown",
   "id": "82b06e77-4e6e-4711-9006-a21b1aaf3619",
   "metadata": {},
   "source": [
    "5. Create a program that takes a string as input and removes all the spaces from it. Print the modified string without spaces."
   ]
  },
  {
   "cell_type": "code",
   "execution_count": 54,
   "id": "7d642e95-8efa-4895-8f4d-daeeae14f0eb",
   "metadata": {},
   "outputs": [
    {
     "name": "stdin",
     "output_type": "stream",
     "text": [
      "Enter your Name:  naga sai kiran\n"
     ]
    }
   ],
   "source": [
    "name = input(\"Enter your Name: \")"
   ]
  },
  {
   "cell_type": "code",
   "execution_count": 55,
   "id": "17b78fa4-c5c9-46a0-a4ad-2b7831ae43db",
   "metadata": {},
   "outputs": [],
   "source": [
    "modified_name = name.replace(\" \", \"\")"
   ]
  },
  {
   "cell_type": "code",
   "execution_count": 56,
   "id": "93eec3e1-580c-4e42-971a-8027b040a363",
   "metadata": {},
   "outputs": [
    {
     "data": {
      "text/plain": [
       "'nagasaikiran'"
      ]
     },
     "execution_count": 56,
     "metadata": {},
     "output_type": "execute_result"
    }
   ],
   "source": [
    "modified_name"
   ]
  },
  {
   "cell_type": "markdown",
   "id": "908932a3-eb89-4ec4-93cd-6417df2edea8",
   "metadata": {},
   "source": [
    "                                                            END"
   ]
  },
  {
   "cell_type": "code",
   "execution_count": null,
   "id": "5e882e38-4fd2-42b4-9a0d-2398b76a1d27",
   "metadata": {},
   "outputs": [],
   "source": []
  }
 ],
 "metadata": {
  "kernelspec": {
   "display_name": "Python 3 (ipykernel)",
   "language": "python",
   "name": "python3"
  },
  "language_info": {
   "codemirror_mode": {
    "name": "ipython",
    "version": 3
   },
   "file_extension": ".py",
   "mimetype": "text/x-python",
   "name": "python",
   "nbconvert_exporter": "python",
   "pygments_lexer": "ipython3",
   "version": "3.10.8"
  }
 },
 "nbformat": 4,
 "nbformat_minor": 5
}
