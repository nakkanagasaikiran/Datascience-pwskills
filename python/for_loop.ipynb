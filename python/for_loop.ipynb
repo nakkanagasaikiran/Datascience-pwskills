{
 "cells": [
  {
   "cell_type": "markdown",
   "id": "3cbdb7fd-6867-49af-b769-65bdd50f2f74",
   "metadata": {},
   "source": [
    "1. Write a Python program to print the numbers from 1 to 10 using a `for` loop.\n"
   ]
  },
  {
   "cell_type": "code",
   "execution_count": 9,
   "id": "fa479c33-19b5-4352-adc7-44c372946f04",
   "metadata": {},
   "outputs": [
    {
     "name": "stdout",
     "output_type": "stream",
     "text": [
      "1 2 3 4 5 6 7 8 9 10 "
     ]
    }
   ],
   "source": [
    "for i in range(1,11):\n",
    "    print(i, end=\" \")"
   ]
  },
  {
   "cell_type": "markdown",
   "id": "6c56990a-c6ab-4273-b1cc-3f6cd6ff0021",
   "metadata": {},
   "source": [
    "2. Create a program that calculates the sum of all numbers in a list using a `for` loop.\n"
   ]
  },
  {
   "cell_type": "code",
   "execution_count": 5,
   "id": "3c70a9a1-8233-488f-a8dd-62e7e4c954f0",
   "metadata": {},
   "outputs": [
    {
     "name": "stdout",
     "output_type": "stream",
     "text": [
      "sum of list is: 31\n"
     ]
    }
   ],
   "source": [
    "l = [1,2,3,6,9,10]\n",
    "sum = 0\n",
    "for i in l:\n",
    "    sum = sum+i\n",
    "print(\"sum of list is:\", sum)\n",
    "    \n",
    "    "
   ]
  },
  {
   "cell_type": "markdown",
   "id": "e894f8d8-5a6c-45f0-bfc6-540a6aab2025",
   "metadata": {},
   "source": [
    "3. Write a program to print the characters of a string in reverse order using a `for` loop.\n"
   ]
  },
  {
   "cell_type": "code",
   "execution_count": 6,
   "id": "ebd9ef0f-be89-4c82-8372-e5b561d1e8aa",
   "metadata": {},
   "outputs": [
    {
     "name": "stdin",
     "output_type": "stream",
     "text": [
      "Enter your name saikiran\n"
     ]
    },
    {
     "name": "stdout",
     "output_type": "stream",
     "text": [
      "narikias\n"
     ]
    }
   ],
   "source": [
    "name =input(\"Enter your name\")\n",
    "reverse = ''\n",
    "for i in reversed(name):\n",
    "    reverse = reverse+i\n",
    "print(reverse)\n",
    "    "
   ]
  },
  {
   "cell_type": "markdown",
   "id": "01fb9131-c366-4596-a74d-a81d894b2aa0",
   "metadata": {},
   "source": [
    "4. Develop a program that finds the factorial of a given number using a `for` loop.\n"
   ]
  },
  {
   "cell_type": "code",
   "execution_count": 1,
   "id": "3b371123-a83a-43c5-9144-9fae23a7999e",
   "metadata": {},
   "outputs": [
    {
     "name": "stdin",
     "output_type": "stream",
     "text": [
      "Enter a number 5\n"
     ]
    },
    {
     "name": "stdout",
     "output_type": "stream",
     "text": [
      "The factorial of 5 is 120\n"
     ]
    }
   ],
   "source": [
    "num = int(input(\"Enter a number\"))\n",
    "factorial  = 1\n",
    "if num == 0:\n",
    "    print(\"The factorial of 0 is 1.\")\n",
    "else:\n",
    "    for i in range(1, num+1):\n",
    "        factorial = factorial * i\n",
    "    print(\"The factorial of\", num, \"is\", factorial)"
   ]
  },
  {
   "cell_type": "markdown",
   "id": "0d1ca626-b07e-4e10-b014-a18a69d69082",
   "metadata": {},
   "source": [
    "5. Create a program to print the multiplication table of a given number using a `for` loop.\n"
   ]
  },
  {
   "cell_type": "code",
   "execution_count": 2,
   "id": "f2f066bc-4784-4e5d-8f90-47704106e41a",
   "metadata": {},
   "outputs": [
    {
     "name": "stdin",
     "output_type": "stream",
     "text": [
      "Enter a number:  5\n"
     ]
    },
    {
     "name": "stdout",
     "output_type": "stream",
     "text": [
      "Multiplication table for 5 :\n",
      "5 x 1 = 5\n",
      "5 x 2 = 10\n",
      "5 x 3 = 15\n",
      "5 x 4 = 20\n",
      "5 x 5 = 25\n",
      "5 x 6 = 30\n",
      "5 x 7 = 35\n",
      "5 x 8 = 40\n",
      "5 x 9 = 45\n",
      "5 x 10 = 50\n"
     ]
    }
   ],
   "source": [
    "num = int(input(\"Enter a number: \"))\n",
    "\n",
    "print(\"Multiplication table for\", num, \":\")\n",
    "for i in range(1, 11):\n",
    "    result = num * i\n",
    "    print(num, \"x\", i, \"=\", result)\n"
   ]
  },
  {
   "cell_type": "markdown",
   "id": "c662f30a-c9ff-4bb7-9057-23e21369e538",
   "metadata": {},
   "source": [
    "6. Write a program that counts the number of even and odd numbers in a list using a `for` loop.\n"
   ]
  },
  {
   "cell_type": "code",
   "execution_count": 3,
   "id": "e8e09359-fc67-4624-915b-cdaafef02419",
   "metadata": {},
   "outputs": [
    {
     "name": "stdout",
     "output_type": "stream",
     "text": [
      "even_count : 4\n",
      "odd_count :  6\n"
     ]
    }
   ],
   "source": [
    "l1 =[1,3,4,9,22,43,56,77,65,34]\n",
    "even_count =0\n",
    "odd_count =0\n",
    "for i in l1:\n",
    "    if i%2 == 0:\n",
    "        even_count = even_count+1\n",
    "    else:\n",
    "        odd_count = odd_count+1\n",
    "print(\"even_count :\", even_count)\n",
    "print(\"odd_count : \", odd_count)"
   ]
  },
  {
   "cell_type": "markdown",
   "id": "e2ff504e-5a04-4cd5-a939-195ce3dceb5f",
   "metadata": {},
   "source": [
    "7. Develop a program that prints the squares of numbers from 1 to 5 using a `for` loop.\n"
   ]
  },
  {
   "cell_type": "code",
   "execution_count": 4,
   "id": "e50f2950-72a3-41cf-993a-41eb759aec4e",
   "metadata": {},
   "outputs": [
    {
     "name": "stdout",
     "output_type": "stream",
     "text": [
      "square of  1 is:  1\n",
      "square of  2 is:  4\n",
      "square of  3 is:  9\n",
      "square of  4 is:  16\n",
      "square of  5 is:  25\n"
     ]
    }
   ],
   "source": [
    "for i in range(1, 6):\n",
    "    print(\"square of \", i, \"is: \", i*i)"
   ]
  },
  {
   "cell_type": "markdown",
   "id": "5ef028d7-6c2b-4a5a-9ea9-58e807818ec8",
   "metadata": {},
   "source": [
    "8. Create a program to find the length of a string without using the `len()` function.\n"
   ]
  },
  {
   "cell_type": "code",
   "execution_count": 5,
   "id": "81da6a98-01e5-467f-a71b-46e83b35b8e6",
   "metadata": {},
   "outputs": [
    {
     "name": "stdin",
     "output_type": "stream",
     "text": [
      "Enter your name: saikiran\n"
     ]
    },
    {
     "name": "stdout",
     "output_type": "stream",
     "text": [
      "length of string : 8\n"
     ]
    }
   ],
   "source": [
    "name = input(\"Enter your name:\")\n",
    "length = 0 \n",
    "for i in name:\n",
    "    length = length+1\n",
    "print(\"length of string :\", length)    "
   ]
  },
  {
   "cell_type": "markdown",
   "id": "48ed2c68-0251-494a-a5a5-2488205a5bf9",
   "metadata": {},
   "source": [
    "9. Write a program that calculates the average of a list of numbers using a `for` loop.\n"
   ]
  },
  {
   "cell_type": "code",
   "execution_count": 6,
   "id": "270b4da2-e696-41ad-9753-8c5b05b39778",
   "metadata": {},
   "outputs": [
    {
     "name": "stdin",
     "output_type": "stream",
     "text": [
      "Enter a list of numbers separated by spaces:  2 4 8 6\n"
     ]
    },
    {
     "name": "stdout",
     "output_type": "stream",
     "text": [
      "Average of list of numbers 5.0\n"
     ]
    }
   ],
   "source": [
    "num_list = input(\"Enter a list of numbers separated by spaces: \").split()\n",
    "sum = 0\n",
    "length = 0\n",
    "for i in num_list:\n",
    "    sum = sum + int(i)\n",
    "    length = length+1\n",
    "    \n",
    "print(\"Average of list of numbers\", (sum/length))         "
   ]
  },
  {
   "cell_type": "markdown",
   "id": "c52e8a85-e9ed-4dcf-9739-fd2a62c0bbec",
   "metadata": {},
   "source": [
    "10. Develop a program that prints the first `n` Fibonacci numbers using a `for` loop.\n"
   ]
  },
  {
   "cell_type": "code",
   "execution_count": 8,
   "id": "82f7cf7c-f22d-4e13-ae35-3be7ceecf6dc",
   "metadata": {},
   "outputs": [
    {
     "name": "stdin",
     "output_type": "stream",
     "text": [
      "Enter the number of Fibonacci numbers to generate: 5\n"
     ]
    },
    {
     "name": "stdout",
     "output_type": "stream",
     "text": [
      "0 1 1 2 3 "
     ]
    }
   ],
   "source": [
    "num = int(input(\"Enter the number of Fibonacci numbers to generate:\"))\n",
    "a, b = 0, 1\n",
    "\n",
    "for i in range(num):\n",
    "    print(a, end=\" \")\n",
    "    a, b = b, a + b"
   ]
  },
  {
   "cell_type": "code",
   "execution_count": null,
   "id": "93f88b7a-78b1-4fa4-9810-4f27202897f0",
   "metadata": {},
   "outputs": [],
   "source": []
  },
  {
   "cell_type": "markdown",
   "id": "c4a900ee-6a96-4c67-95ac-ee097c9953dd",
   "metadata": {},
   "source": [
    "11. Write a program to check if a given list contains any duplicates using a `for` loop."
   ]
  },
  {
   "cell_type": "code",
   "execution_count": 10,
   "id": "b9350331-1c1c-4a22-b1a0-ed7e667e1d91",
   "metadata": {},
   "outputs": [
    {
     "name": "stdin",
     "output_type": "stream",
     "text": [
      "Enter a list separated by spaces:  1 13 6 8 6 3 8 1 \n"
     ]
    },
    {
     "name": "stdout",
     "output_type": "stream",
     "text": [
      "The list contains duplicates.\n"
     ]
    }
   ],
   "source": [
    "num_list = input(\"Enter a list separated by spaces: \").split()\n",
    "duplicates = False\n",
    "for i in range(len(num_list)):\n",
    "    if num_list[i] in num_list[i + 1:]:\n",
    "        duplicates = True\n",
    "        break\n",
    "if duplicates:\n",
    "    print(\"The list contains duplicates.\")\n",
    "else:\n",
    "    print(\"The list does not contain duplicates.\")"
   ]
  },
  {
   "cell_type": "markdown",
   "id": "b2c36be8-b574-4868-842f-fdc2e2b91e99",
   "metadata": {},
   "source": [
    "12. Create a program that prints the prime numbers in a given range using a `for` loop."
   ]
  },
  {
   "cell_type": "code",
   "execution_count": 11,
   "id": "d10bf29c-77c6-446f-983a-653996d99b7a",
   "metadata": {},
   "outputs": [
    {
     "name": "stdin",
     "output_type": "stream",
     "text": [
      "Enter the starting number:  5 \n",
      "Enter the ending number:  20\n"
     ]
    },
    {
     "name": "stdout",
     "output_type": "stream",
     "text": [
      "5 7 11 13 17 19 "
     ]
    }
   ],
   "source": [
    "start = int(input(\"Enter the starting number: \"))\n",
    "end = int(input(\"Enter the ending number: \"))\n",
    "for num in range(start, end + 1):\n",
    "    if num > 1:\n",
    "        is_prime = True\n",
    "        for i in range(2, num):\n",
    "            if num % i == 0:\n",
    "                is_prime = False\n",
    "                break\n",
    "        if is_prime:\n",
    "            print(num, end=\" \")"
   ]
  },
  {
   "cell_type": "markdown",
   "id": "c967af8f-b876-400c-bb54-8b374b05e7da",
   "metadata": {},
   "source": [
    "13. Develop a program that counts the number of vowels in a string using a `for` loop."
   ]
  },
  {
   "cell_type": "code",
   "execution_count": 14,
   "id": "7c4b8ba3-f38a-47b0-ad1f-22d853c988a1",
   "metadata": {},
   "outputs": [
    {
     "name": "stdin",
     "output_type": "stream",
     "text": [
      "Enter a string:  saikiran\n"
     ]
    },
    {
     "name": "stdout",
     "output_type": "stream",
     "text": [
      "Number of vowels in the string: 4\n"
     ]
    }
   ],
   "source": [
    "string = input(\"Enter a string: \")\n",
    "vowel_count = 0\n",
    "vowels = {'a', 'e', 'i', 'o', 'u'}\n",
    "for char in string:\n",
    "    if char in vowels:\n",
    "        vowel_count += 1\n",
    "print(\"Number of vowels in the string:\", vowel_count)\n"
   ]
  },
  {
   "cell_type": "markdown",
   "id": "9962151d-8973-41c1-bf07-88a92d6b78f7",
   "metadata": {},
   "source": [
    "14. Write a program to find the maximum element in a 2D list using a nested `for` loop."
   ]
  },
  {
   "cell_type": "code",
   "execution_count": 19,
   "id": "2a25e1e6-9a57-4696-9d87-a0a53d6808f5",
   "metadata": {},
   "outputs": [
    {
     "name": "stdout",
     "output_type": "stream",
     "text": [
      "The maximum element in the 2D list is: 25\n"
     ]
    }
   ],
   "source": [
    "matrix = [\n",
    "    [5, 12, 17],\n",
    "    [8, 3, 20],\n",
    "    [25, 6, 9]\n",
    "]\n",
    "max_element = matrix[0][0]\n",
    "for row in matrix:\n",
    "    for element in row:\n",
    "        if element > max_element:\n",
    "            max_element = element\n",
    "print(\"The maximum element in the 2D list is:\", max_element)"
   ]
  },
  {
   "cell_type": "markdown",
   "id": "247a2b4a-88d8-4d4b-9846-725934e4740a",
   "metadata": {},
   "source": [
    "15. Create a program that removes all occurrences of a specific element from a list using a `for` loop."
   ]
  },
  {
   "cell_type": "code",
   "execution_count": 22,
   "id": "2ce94543-7b85-4a06-ac3a-7f209144cd4d",
   "metadata": {},
   "outputs": [
    {
     "name": "stdin",
     "output_type": "stream",
     "text": [
      "Enter a list of elements separated by spaces:  i am enrolled datascience course i am learning datascience course\n",
      "Enter the element to remove:  course\n"
     ]
    },
    {
     "name": "stdout",
     "output_type": "stream",
     "text": [
      "New List of Elements ['i', 'am', 'enrolled', 'datascience', 'i', 'am', 'learning', 'datascience']\n"
     ]
    }
   ],
   "source": [
    "elements = input(\"Enter a list of elements separated by spaces: \").split()\n",
    "element_to_remove = input(\"Enter the element to remove: \")\n",
    "\n",
    "result_list = []\n",
    "\n",
    "for element in elements:\n",
    "    if element != element_to_remove:\n",
    "        result_list.append(element)\n",
    "\n",
    "print(\"New List of Elements\", result_list)\n"
   ]
  },
  {
   "cell_type": "markdown",
   "id": "01c1dbeb-9f8a-4869-a8f4-54c1c5bf9618",
   "metadata": {},
   "source": [
    "16. Develop a program that generates a multiplication table for numbers from 1 to 5 using a nested `for` loop."
   ]
  },
  {
   "cell_type": "code",
   "execution_count": 28,
   "id": "f82009de-7d29-471e-ae99-7fc7600108d3",
   "metadata": {},
   "outputs": [
    {
     "name": "stdout",
     "output_type": "stream",
     "text": [
      "Multiplication table for 1\n",
      "1 x 1 = 1\n",
      "1 x 2 = 2\n",
      "1 x 3 = 3\n",
      "1 x 4 = 4\n",
      "1 x 5 = 5\n",
      "1 x 6 = 6\n",
      "1 x 7 = 7\n",
      "1 x 8 = 8\n",
      "1 x 9 = 9\n",
      "1 x 10 = 10\n",
      "\n",
      "Multiplication table for 2\n",
      "2 x 1 = 2\n",
      "2 x 2 = 4\n",
      "2 x 3 = 6\n",
      "2 x 4 = 8\n",
      "2 x 5 = 10\n",
      "2 x 6 = 12\n",
      "2 x 7 = 14\n",
      "2 x 8 = 16\n",
      "2 x 9 = 18\n",
      "2 x 10 = 20\n",
      "\n",
      "Multiplication table for 3\n",
      "3 x 1 = 3\n",
      "3 x 2 = 6\n",
      "3 x 3 = 9\n",
      "3 x 4 = 12\n",
      "3 x 5 = 15\n",
      "3 x 6 = 18\n",
      "3 x 7 = 21\n",
      "3 x 8 = 24\n",
      "3 x 9 = 27\n",
      "3 x 10 = 30\n",
      "\n",
      "Multiplication table for 4\n",
      "4 x 1 = 4\n",
      "4 x 2 = 8\n",
      "4 x 3 = 12\n",
      "4 x 4 = 16\n",
      "4 x 5 = 20\n",
      "4 x 6 = 24\n",
      "4 x 7 = 28\n",
      "4 x 8 = 32\n",
      "4 x 9 = 36\n",
      "4 x 10 = 40\n",
      "\n",
      "Multiplication table for 5\n",
      "5 x 1 = 5\n",
      "5 x 2 = 10\n",
      "5 x 3 = 15\n",
      "5 x 4 = 20\n",
      "5 x 5 = 25\n",
      "5 x 6 = 30\n",
      "5 x 7 = 35\n",
      "5 x 8 = 40\n",
      "5 x 9 = 45\n",
      "5 x 10 = 50\n",
      "\n"
     ]
    }
   ],
   "source": [
    "start = 1\n",
    "end = 5\n",
    "for i in range(start, end + 1):\n",
    "    print(\"Multiplication table for\", i)\n",
    "    for j in range(1, 11):\n",
    "        product = i * j\n",
    "        print(i, \"x\", j ,\"=\", product)\n",
    "    print()\n"
   ]
  },
  {
   "cell_type": "markdown",
   "id": "b734651c-f011-4164-9a59-fa3ca0fedab4",
   "metadata": {},
   "source": [
    "17. Write a program that converts a list of Fahrenheit temperatures to Celsius using a `for` loop."
   ]
  },
  {
   "cell_type": "code",
   "execution_count": 30,
   "id": "6865dd26-e358-4244-8fdd-fd5b9e734e83",
   "metadata": {},
   "outputs": [
    {
     "name": "stdin",
     "output_type": "stream",
     "text": [
      "Enter a list of Fahrenheit temperatures separated by spaces:  13 43 6 4 33\n"
     ]
    },
    {
     "name": "stdout",
     "output_type": "stream",
     "text": [
      "Celsius temperatures: [-10.555555555555555, 6.111111111111111, -14.444444444444445, -15.555555555555555, 0.5555555555555556]\n"
     ]
    }
   ],
   "source": [
    "fahrenheit_temperatures = input(\"Enter a list of Fahrenheit temperatures separated by spaces: \").split()\n",
    "celsius_temperatures = []\n",
    "for fahrenheit in fahrenheit_temperatures:\n",
    "    celsius = (float(fahrenheit) - 32) * 5/9\n",
    "    celsius_temperatures.append(celsius)\n",
    "\n",
    "print(\"Celsius temperatures:\", celsius_temperatures)\n"
   ]
  },
  {
   "cell_type": "markdown",
   "id": "888a8519-59b1-4fa1-a449-3142686651e7",
   "metadata": {},
   "source": [
    "18. Create a program to print the common elements from two lists using a `for` loop."
   ]
  },
  {
   "cell_type": "code",
   "execution_count": 31,
   "id": "2d44203a-0de7-45c6-802a-db6b501fe4cd",
   "metadata": {},
   "outputs": [
    {
     "name": "stdin",
     "output_type": "stream",
     "text": [
      "Enter the first list of elements separated by spaces:  1 4 6 7 9 3 4\n",
      "Enter the second list of elements separated by spaces:  6 4 7 4 8 2 9\n"
     ]
    },
    {
     "name": "stdout",
     "output_type": "stream",
     "text": [
      "Common elements in the two lists: ['4', '6', '7', '9', '4']\n"
     ]
    }
   ],
   "source": [
    "list1 = input(\"Enter the first list of elements separated by spaces: \").split()\n",
    "list2 = input(\"Enter the second list of elements separated by spaces: \").split()\n",
    "common_elements = []\n",
    "for element in list1:\n",
    "    if element in list2:\n",
    "        common_elements.append(element)\n",
    "print(\"Common elements in the two lists:\", common_elements)\n"
   ]
  },
  {
   "cell_type": "markdown",
   "id": "92b96ad5-5f96-4faa-9589-53fa022c1106",
   "metadata": {},
   "source": [
    "19. Develop a program that prints the pattern of right-angled triangles using a `for` loop. Use ‘*’ to draw the\n",
    "pattern"
   ]
  },
  {
   "cell_type": "code",
   "execution_count": 34,
   "id": "032177d3-0fa1-4337-a284-14851fe2d9fb",
   "metadata": {},
   "outputs": [
    {
     "name": "stdin",
     "output_type": "stream",
     "text": [
      "Enter the number of rows for the pattern:  6\n"
     ]
    },
    {
     "name": "stdout",
     "output_type": "stream",
     "text": [
      "*\n",
      "**\n",
      "***\n",
      "****\n",
      "*****\n",
      "******\n"
     ]
    }
   ],
   "source": [
    "num_rows = int(input(\"Enter the number of rows for the pattern: \"))\n",
    "for i in range(1, num_rows + 1):\n",
    "    for j in range(i):\n",
    "        print('*', end='')\n",
    "    print()\n"
   ]
  },
  {
   "cell_type": "markdown",
   "id": "137b6900-b44d-4d4b-a835-8ed1b5c85796",
   "metadata": {},
   "source": [
    "20. Write a program to find the greatest common divisor (GCD) of two numbers using a `for` loop."
   ]
  },
  {
   "cell_type": "code",
   "execution_count": 1,
   "id": "77c8e424-d4f8-41e2-9c3b-4fd7d82d9795",
   "metadata": {},
   "outputs": [
    {
     "name": "stdin",
     "output_type": "stream",
     "text": [
      "Enter the first number:  3\n",
      "Enter the second number:  6\n"
     ]
    },
    {
     "name": "stdout",
     "output_type": "stream",
     "text": [
      "GCD of numbers 3\n"
     ]
    }
   ],
   "source": [
    "num1 = int(input(\"Enter the first number: \"))\n",
    "num2 = int(input(\"Enter the second number: \"))\n",
    "\n",
    "min_num = min(num1, num2)\n",
    "gcd = 1\n",
    "for i in range(1, min_num + 1):\n",
    "    if num1 % i == 0 and num2 % i == 0:\n",
    "        gcd = i\n",
    "print(\"GCD of numbers\" , gcd)\n"
   ]
  },
  {
   "cell_type": "markdown",
   "id": "4b345ef3-6fe8-434c-8bd0-1bd0ed0ec2eb",
   "metadata": {},
   "source": [
    "21. Create a program that calculates the sum of the digits of numbers in a list using a list comprehension."
   ]
  },
  {
   "cell_type": "code",
   "execution_count": 17,
   "id": "090f994f-8e71-4542-9019-83ac8e47139e",
   "metadata": {},
   "outputs": [
    {
     "name": "stdin",
     "output_type": "stream",
     "text": [
      "Enter a list of numbers separated by spaces:  1 2 3 4\n"
     ]
    },
    {
     "name": "stdout",
     "output_type": "stream",
     "text": [
      "sum of the given numbers 10\n"
     ]
    }
   ],
   "source": [
    "num_list = input(\"Enter a list of numbers separated by spaces: \").split()\n",
    "sum_list = 0\n",
    "result = [int(num) for num in num_list]\n",
    "print(\"sum of the given numbers\", sum(result))"
   ]
  },
  {
   "cell_type": "markdown",
   "id": "2e5f3354-3260-4a9c-8c7b-7222ae428c19",
   "metadata": {},
   "source": [
    "22. Write a program to find the prime factors of a given number using a `for` loop and list comprehension."
   ]
  },
  {
   "cell_type": "code",
   "execution_count": 23,
   "id": "29324e24-a608-4b99-9610-6d6531010bdc",
   "metadata": {},
   "outputs": [
    {
     "name": "stdin",
     "output_type": "stream",
     "text": [
      "Enter a number to find its prime factors:  26\n"
     ]
    },
    {
     "name": "stdout",
     "output_type": "stream",
     "text": [
      "Prime factors of 26 are: [2, 13]\n"
     ]
    }
   ],
   "source": [
    "number = int(input(\"Enter a number to find its prime factors: \"))\n",
    "\n",
    "def is_prime(num):\n",
    "    if num <= 1:\n",
    "        return False\n",
    "    for i in range(2, int(num**0.5) + 1):\n",
    "        if num % i == 0:\n",
    "            return False\n",
    "    return True\n",
    "\n",
    "prime_factors = [factor for factor in range(2, number + 1) if number % factor == 0 and is_prime(factor)]\n",
    "print(\"Prime factors of\", number, \"are:\", prime_factors)\n"
   ]
  },
  {
   "cell_type": "markdown",
   "id": "fdd0dfc8-b7b4-4947-9972-507de8f7c92b",
   "metadata": {},
   "source": [
    "23. Develop a program that extracts unique elements from a list and stores them in a new list using a list\n",
    "comprehension."
   ]
  },
  {
   "cell_type": "code",
   "execution_count": 26,
   "id": "bce517c9-e617-4293-9bab-ac074a379cca",
   "metadata": {},
   "outputs": [
    {
     "name": "stdin",
     "output_type": "stream",
     "text": [
      "Enter a list of elements separated by spaces:  1 2 4 3 3 4 2 4 5 5 6 6 7 9 5\n"
     ]
    },
    {
     "name": "stdout",
     "output_type": "stream",
     "text": [
      "Unique elements in the list: ['1', '2', '4', '3', '5', '6', '7', '9']\n"
     ]
    }
   ],
   "source": [
    "elements = input(\"Enter a list of elements separated by spaces: \").split()\n",
    "\n",
    "unique_elements = []\n",
    "[unique_elements.append(element) for element in elements if element not in unique_elements]\n",
    "\n",
    "print(\"Unique elements in the list:\", unique_elements)\n"
   ]
  },
  {
   "cell_type": "markdown",
   "id": "5afacbb5-b284-4f29-80f9-a185023ceb24",
   "metadata": {},
   "source": [
    "24. Create a program that generates a list of all palindromic numbers up to a specified limit using a list\n",
    "comprehension."
   ]
  },
  {
   "cell_type": "code",
   "execution_count": 29,
   "id": "2c638eed-bdeb-4e5e-af35-bbb0351954b2",
   "metadata": {},
   "outputs": [
    {
     "name": "stdin",
     "output_type": "stream",
     "text": [
      "Enter the lower limit:  20 \n",
      "Enter the upper limit:  200\n"
     ]
    },
    {
     "name": "stdout",
     "output_type": "stream",
     "text": [
      "Palindromic numbers from 20 to 200 : [22, 33, 44, 55, 66, 77, 88, 99, 101, 111, 121, 131, 141, 151, 161, 171, 181, 191]\n"
     ]
    }
   ],
   "source": [
    "lower_limit = int(input(\"Enter the lower limit: \"))\n",
    "upper_limit = int(input(\"Enter the upper limit: \"))\n",
    "\n",
    "palindromic_numbers = [num for num in range(lower_limit, upper_limit + 1) if str(num) == str(num)[::-1]]\n",
    "print(\"Palindromic numbers from\", lower_limit, \"to\", upper_limit,\":\", palindromic_numbers)\n"
   ]
  },
  {
   "cell_type": "markdown",
   "id": "b1d275eb-3c68-4434-8a57-8a86f73bc847",
   "metadata": {},
   "source": [
    "25. Write a program to flatten a nested list using list comprehension."
   ]
  },
  {
   "cell_type": "code",
   "execution_count": 30,
   "id": "64fcea02-db95-443f-9079-e44ddfe127f2",
   "metadata": {},
   "outputs": [
    {
     "name": "stdout",
     "output_type": "stream",
     "text": [
      "Flattened list: [1, 2, 3, 4, 5, 6, 7, 8]\n"
     ]
    }
   ],
   "source": [
    "nested_list = [[1, 2, 3], [4, 5], [6, 7, 8]]\n",
    "flattened_list = [element for sublist in nested_list for element in sublist]\n",
    "print(\"Flattened list:\", flattened_list)\n"
   ]
  },
  {
   "cell_type": "markdown",
   "id": "843e38bd-fb6c-4b29-b6fe-73004f1d1181",
   "metadata": {},
   "source": [
    "26. Develop a program that computes the sum of even and odd numbers in a list separately using list\n",
    "comprehension."
   ]
  },
  {
   "cell_type": "code",
   "execution_count": 32,
   "id": "defda782-98cb-407f-acaa-a47fdd411a58",
   "metadata": {},
   "outputs": [
    {
     "name": "stdin",
     "output_type": "stream",
     "text": [
      "Enter a list of numbers separated by spaces:  1 3 4 5 4 6 8 9 \n"
     ]
    },
    {
     "name": "stdout",
     "output_type": "stream",
     "text": [
      "Sum of even numbers: 22\n",
      "Sum of odd numbers: 18\n"
     ]
    }
   ],
   "source": [
    "num_list = input(\"Enter a list of numbers separated by spaces: \").split()\n",
    "num_list = [int(num) for num in num_list]\n",
    "\n",
    "even_numbers = sum([num for num in num_list if num % 2 == 0])\n",
    "odd_numbers = sum([num for num in num_list if num % 2 != 0])\n",
    "\n",
    "print(\"Sum of even numbers:\", even_numbers)\n",
    "print(\"Sum of odd numbers:\", odd_numbers)\n"
   ]
  },
  {
   "cell_type": "markdown",
   "id": "d004942e-5e8e-4f2d-a790-614ae0b82810",
   "metadata": {},
   "source": [
    "27. Create a program that generates a list of squares of odd numbers between 1 and 10 using list\n",
    "comprehension."
   ]
  },
  {
   "cell_type": "code",
   "execution_count": 33,
   "id": "d8c4da96-2a1a-4fc6-b6d0-02531497d431",
   "metadata": {},
   "outputs": [
    {
     "name": "stdout",
     "output_type": "stream",
     "text": [
      "Squares of odd numbers between 1 and 10: [1, 9, 25, 49, 81]\n"
     ]
    }
   ],
   "source": [
    "odd_squares = [x**2 for x in range(1, 11) if x % 2 != 0]\n",
    "print(\"Squares of odd numbers between 1 and 10:\", odd_squares)"
   ]
  },
  {
   "cell_type": "markdown",
   "id": "ac9f4668-12bc-41e9-9325-f4fa411895b4",
   "metadata": {},
   "source": [
    "28. Write a program that combines two lists into a dictionary using list comprehension."
   ]
  },
  {
   "cell_type": "code",
   "execution_count": 38,
   "id": "60178d1d-4c1c-4bdc-bab5-a52273314acb",
   "metadata": {},
   "outputs": [
    {
     "name": "stdin",
     "output_type": "stream",
     "text": [
      "Enter a list of keys separated by spaces:  1 3 4 7 8 9 6 4 6\n",
      "Enter a list of values separated by spaces:  4 54 6 43 64 74\n"
     ]
    },
    {
     "name": "stdout",
     "output_type": "stream",
     "text": [
      "Combined Dictionary: {'1': '4', '3': '54', '4': '6', '7': '43', '8': '64', '9': '74'}\n"
     ]
    }
   ],
   "source": [
    "list1 = input(\"Enter a list of keys separated by spaces: \").split()\n",
    "list2 = input(\"Enter a list of values separated by spaces: \").split()\n",
    "\n",
    "combined_dict = {list1[i]: list2[i] for i in range(min(len(list1), len(list2)))}\n",
    "print(\"Combined Dictionary:\", combined_dict)\n"
   ]
  },
  {
   "cell_type": "markdown",
   "id": "cbc8812a-6150-4270-b85a-7a48befad006",
   "metadata": {},
   "source": [
    "29. Develop a program that extracts the vowels from a string and stores them in a list using list comprehension."
   ]
  },
  {
   "cell_type": "code",
   "execution_count": 39,
   "id": "96946255-c6ba-4984-bac2-f7c357ba635e",
   "metadata": {},
   "outputs": [
    {
     "name": "stdin",
     "output_type": "stream",
     "text": [
      "Enter a string:  my name is saikiran\n"
     ]
    },
    {
     "name": "stdout",
     "output_type": "stream",
     "text": [
      "Vowels in the string: ['a', 'e', 'i', 'a', 'i', 'i', 'a']\n"
     ]
    }
   ],
   "source": [
    "input_string = input(\"Enter a string: \")\n",
    "vowels = set(\"AEIOUaeiou\")\n",
    "\n",
    "vowel_list = [char for char in input_string if char in vowels]\n",
    "print(\"Vowels in the string:\", vowel_list)\n"
   ]
  },
  {
   "cell_type": "markdown",
   "id": "321c26e7-3323-437b-93ab-d72076b95e89",
   "metadata": {},
   "source": [
    "30. Create a program that removes all non-numeric characters from a list of strings using list comprehension."
   ]
  },
  {
   "cell_type": "code",
   "execution_count": 45,
   "id": "abccfc91-d844-499a-b1a7-e3a19a302afa",
   "metadata": {},
   "outputs": [
    {
     "name": "stdin",
     "output_type": "stream",
     "text": [
      "Enter a list of strings separated by spaces:  sai12kiran naga4sai6kiran nani45\n"
     ]
    },
    {
     "name": "stdout",
     "output_type": "stream",
     "text": [
      "Strings with non-numeric characters removed: ['12', '46', '45']\n"
     ]
    }
   ],
   "source": [
    "string_list = input(\"Enter a list of strings separated by spaces: \").split()\n",
    "\n",
    "numeric_strings = [''.join(char for char in string if char.isdigit()) for string in string_list]\n",
    "print(\"Strings with non-numeric characters removed:\", numeric_strings)\n"
   ]
  },
  {
   "cell_type": "markdown",
   "id": "874560e9-fb82-4c92-878f-92c5bd28e6cc",
   "metadata": {},
   "source": [
    "31. Write a program to generate a list of prime numbers using the Sieve of Eratosthenes algorithm and list\n",
    "comprehension."
   ]
  },
  {
   "cell_type": "code",
   "execution_count": 2,
   "id": "7ca82cf8-c891-423f-9b34-e138c2bc44b7",
   "metadata": {},
   "outputs": [
    {
     "name": "stdin",
     "output_type": "stream",
     "text": [
      "Enter the upper limit for prime numbers:  38\n"
     ]
    },
    {
     "name": "stdout",
     "output_type": "stream",
     "text": [
      "Prime numbers up to 38 are: [2, 3, 5, 7, 11, 13, 17, 19, 23, 29, 31, 37]\n"
     ]
    }
   ],
   "source": [
    "limit = int(input(\"Enter the upper limit for prime numbers: \"))\n",
    "\n",
    "def is_prime(num):\n",
    "    if num <= 1:\n",
    "        return False\n",
    "    for i in range(2, int(num**0.5) + 1):\n",
    "        if num % i == 0:\n",
    "            return False\n",
    "    return True\n",
    "\n",
    "prime_numbers = [num for num in range(2, limit + 1) if is_prime(num)]\n",
    "print(\"Prime numbers up to\", limit, \"are:\", prime_numbers)\n"
   ]
  },
  {
   "cell_type": "markdown",
   "id": "58113149-c0db-4485-a61e-e0d7352365e3",
   "metadata": {},
   "source": [
    "32. Create a program that generates a list of all Pythagorean triplets up to a specified limit using list\n",
    "comprehension."
   ]
  },
  {
   "cell_type": "code",
   "execution_count": 4,
   "id": "1268abd1-fd7f-4a7a-903c-bc74fa45a400",
   "metadata": {},
   "outputs": [
    {
     "name": "stdin",
     "output_type": "stream",
     "text": [
      "Enter the upper limit for Pythagorean triplets:  37\n"
     ]
    },
    {
     "name": "stdout",
     "output_type": "stream",
     "text": [
      "Pythagorean triplets up to 37 are: [(3, 4, 5), (5, 12, 13), (6, 8, 10), (7, 24, 25), (8, 15, 17), (9, 12, 15), (10, 24, 26), (12, 16, 20), (12, 35, 37), (15, 20, 25), (16, 30, 34), (18, 24, 30), (20, 21, 29), (21, 28, 35)]\n"
     ]
    }
   ],
   "source": [
    "limit = int(input(\"Enter the upper limit for Pythagorean triplets: \"))\n",
    "\n",
    "def is_valid_triplet(a, b, c):\n",
    "    return a**2 + b**2 == c**2\n",
    "\n",
    "pythagorean_triplets = [(a, b, c) for a in range(1, limit + 1)\n",
    "                         for b in range(a, limit + 1)\n",
    "                         for c in range(b, limit + 1)\n",
    "                         if is_valid_triplet(a, b, c)]\n",
    "print(\"Pythagorean triplets up to\", limit, \"are:\", pythagorean_triplets)\n"
   ]
  },
  {
   "cell_type": "markdown",
   "id": "d0055a18-8c7d-45d5-a72f-486c82fe7c48",
   "metadata": {},
   "source": [
    "33. Develop a program that generates a list of all possible combinations of two lists using list comprehension."
   ]
  },
  {
   "cell_type": "code",
   "execution_count": 6,
   "id": "f173e084-f278-453e-88f2-4dac525b2ef7",
   "metadata": {},
   "outputs": [
    {
     "name": "stdin",
     "output_type": "stream",
     "text": [
      "Enter the first list separated by spaces:  1  2 3 4 \n",
      "Enter the second list separated by spaces:  11 22 33 44\n"
     ]
    },
    {
     "name": "stdout",
     "output_type": "stream",
     "text": [
      "All possible combinations of the two lists are: [('1', '11'), ('1', '22'), ('1', '33'), ('1', '44'), ('2', '11'), ('2', '22'), ('2', '33'), ('2', '44'), ('3', '11'), ('3', '22'), ('3', '33'), ('3', '44'), ('4', '11'), ('4', '22'), ('4', '33'), ('4', '44')]\n"
     ]
    }
   ],
   "source": [
    "list1 = input(\"Enter the first list separated by spaces: \").split()\n",
    "list2 = input(\"Enter the second list separated by spaces: \").split()\n",
    "\n",
    "combinations = [(item1, item2) for item1 in list1 for item2 in list2]\n",
    "print(\"All possible combinations of the two lists are:\", combinations)"
   ]
  },
  {
   "cell_type": "markdown",
   "id": "8cb81f80-bbbd-4976-856f-fd1aedb1dc95",
   "metadata": {},
   "source": [
    "34. Write a program that calculates the mean, median, and mode of a list of numbers using list\n",
    "comprehension."
   ]
  },
  {
   "cell_type": "code",
   "execution_count": 8,
   "id": "3560162c-2805-451d-9e41-b891206d9ca5",
   "metadata": {},
   "outputs": [
    {
     "name": "stdin",
     "output_type": "stream",
     "text": [
      "Enter a list of numbers separated by spaces:   3 6 3 3 6 7 8 6 8 8 9 5 4 7 4 3\n"
     ]
    },
    {
     "name": "stdout",
     "output_type": "stream",
     "text": [
      "Mean: 5.625\n",
      "Median: 6.0\n",
      "Mode: [3]\n"
     ]
    }
   ],
   "source": [
    "numbers = input(\"Enter a list of numbers separated by spaces: \").split()\n",
    "numbers = [int(num) for num in numbers]\n",
    "\n",
    "mean = sum(numbers) / len(numbers)\n",
    "\n",
    "sorted_numbers = sorted(numbers)\n",
    "if len(numbers) % 2 == 0:\n",
    "    middle1 = sorted_numbers[len(numbers) // 2 - 1]\n",
    "    middle2 = sorted_numbers[len(numbers) // 2]\n",
    "    median = (middle1 + middle2) / 2\n",
    "else:\n",
    "    median = sorted_numbers[len(numbers) // 2]\n",
    "\n",
    "num_counts = {}\n",
    "for num in numbers:\n",
    "    if num in num_counts:\n",
    "        num_counts[num] += 1\n",
    "    else:\n",
    "        num_counts[num] = 1\n",
    "\n",
    "max_count = max(num_counts.values())\n",
    "mode = [num for num, count in num_counts.items() if count == max_count]\n",
    "\n",
    "print(\"Mean:\", mean)\n",
    "print(\"Median:\", median)\n",
    "print(\"Mode:\", mode)\n"
   ]
  },
  {
   "cell_type": "markdown",
   "id": "d947372e-5987-4787-9e41-75f9f3087d3e",
   "metadata": {},
   "source": [
    "35. Create a program that generates Pascal's triangle up to a specified number of rows using list\n",
    "comprehension."
   ]
  },
  {
   "cell_type": "code",
   "execution_count": 1,
   "id": "3d867d38-6ede-48d3-98b0-5bd7f87d31fd",
   "metadata": {},
   "outputs": [
    {
     "name": "stdin",
     "output_type": "stream",
     "text": [
      "Enter the number of rows for Pascal's triangle:  5\n"
     ]
    },
    {
     "name": "stdout",
     "output_type": "stream",
     "text": [
      "[1]\n",
      "[1, 1]\n",
      "[1, 2, 1]\n",
      "[1, 3, 3, 1]\n",
      "[1, 4, 6, 4, 1]\n"
     ]
    }
   ],
   "source": [
    "num_rows = int(input(\"Enter the number of rows for Pascal's triangle: \"))\n",
    "\n",
    "def generate_pascals_triangle(n):\n",
    "    if n == 1:\n",
    "        return [[1]]\n",
    "    else:\n",
    "        prev_triangle = generate_pascals_triangle(n - 1)\n",
    "        prev_row = prev_triangle[-1]\n",
    "        new_row = [1] + [prev_row[i] + prev_row[i + 1] for i in range(len(prev_row) - 1)] + [1]\n",
    "        return prev_triangle + [new_row]\n",
    "pascals_triangle = generate_pascals_triangle(num_rows)\n",
    "\n",
    "for row in pascals_triangle:\n",
    "    print(row)"
   ]
  },
  {
   "cell_type": "markdown",
   "id": "c79566e0-e44f-45e8-8ab3-839ecf3b45ea",
   "metadata": {},
   "source": [
    "36. Develop a program that calculates the sum of the digits of a factorial of numbers from 1 to 5 using list\n",
    "comprehension."
   ]
  },
  {
   "cell_type": "code",
   "execution_count": 3,
   "id": "1618bcae-ed30-42b7-98fb-0738eb470f27",
   "metadata": {},
   "outputs": [
    {
     "name": "stdout",
     "output_type": "stream",
     "text": [
      "The factorial of 1 is 1 and the sum of its digits is 1\n",
      "The factorial of 2 is 2 and the sum of its digits is 2\n",
      "The factorial of 3 is 6 and the sum of its digits is 6\n",
      "The factorial of 4 is 24 and the sum of its digits is 6\n",
      "The factorial of 5 is 120 and the sum of its digits is 3\n"
     ]
    }
   ],
   "source": [
    "def factorial(n):\n",
    "    if n == 0 or n == 1:\n",
    "        return 1\n",
    "    else:\n",
    "        result = 1\n",
    "        for i in range(2, n + 1):\n",
    "            result *= i\n",
    "        return result\n",
    "def sum_of_digits(number):\n",
    "    return sum(int(digit) for digit in str(number))\n",
    "\n",
    "for num in range(1, 6):\n",
    "    fact = factorial(num)\n",
    "    digit_sum = sum_of_digits(fact)\n",
    "    print(f\"The factorial of {num} is {fact} and the sum of its digits is {digit_sum}\")\n"
   ]
  },
  {
   "cell_type": "markdown",
   "id": "46d39bac-9778-440a-b6e2-04bfdb8acfca",
   "metadata": {},
   "source": [
    "37. Write a program that finds the longest word in a sentence using list comprehension."
   ]
  },
  {
   "cell_type": "code",
   "execution_count": 4,
   "id": "20153a99-a2d9-43d6-9a38-8220e89911e0",
   "metadata": {},
   "outputs": [
    {
     "name": "stdin",
     "output_type": "stream",
     "text": [
      "Enter a sentence:  i am leaning datascience course with the help of pwskills\n"
     ]
    },
    {
     "name": "stdout",
     "output_type": "stream",
     "text": [
      "The longest word in the sentence is: datascience\n"
     ]
    }
   ],
   "source": [
    "sentence = input(\"Enter a sentence: \")\n",
    "words = sentence.split()\n",
    "\n",
    "longest_word = max(words, key=lambda word: len(word))\n",
    "print(\"The longest word in the sentence is:\", longest_word)\n"
   ]
  },
  {
   "cell_type": "markdown",
   "id": "3c1b8669-9a12-4ad9-80ca-9b68725665f0",
   "metadata": {},
   "source": [
    "38. Create a program that filters a list of strings to include only those with more than three vowels using list\n",
    "comprehension."
   ]
  },
  {
   "cell_type": "code",
   "execution_count": 6,
   "id": "8cc9f1dc-162e-4c94-b763-38c969b20e42",
   "metadata": {},
   "outputs": [
    {
     "name": "stdin",
     "output_type": "stream",
     "text": [
      "Enter a list of strings separated by spaces:  i am leaning datascience course with the help of pwskills\n"
     ]
    },
    {
     "name": "stdout",
     "output_type": "stream",
     "text": [
      "Strings with more than three vowels: ['datascience']\n"
     ]
    }
   ],
   "source": [
    "def count_vowels(string):\n",
    "    vowels = \"AEIOUaeiou\"\n",
    "    return sum(1 for char in string if char in vowels)\n",
    "string_list = input(\"Enter a list of strings separated by spaces: \").split()\n",
    "\n",
    "filtered_strings = [string for string in string_list if count_vowels(string) > 3]\n",
    "print(\"Strings with more than three vowels:\", filtered_strings)\n"
   ]
  },
  {
   "cell_type": "markdown",
   "id": "e26893d6-939e-4469-9e71-005934c7941d",
   "metadata": {},
   "source": [
    "39. Develop a program that calculates the sum of the digits of numbers from 1 to 1000 using list\n",
    "comprehension."
   ]
  },
  {
   "cell_type": "code",
   "execution_count": 10,
   "id": "7f082512-c8ee-43c1-977a-f7134961c0f4",
   "metadata": {},
   "outputs": [
    {
     "name": "stdout",
     "output_type": "stream",
     "text": [
      "The sum of the digits of numbers from 1 to 1000 is: 13501\n"
     ]
    }
   ],
   "source": [
    "def sum_of_digits(number):\n",
    "    return sum(int(digit) for digit in str(number))\n",
    "\n",
    "digit_sums = [sum_of_digits(num) for num in range(1, 1001)]\n",
    "total_sum = sum(digit_sums)\n",
    "print(\"The sum of the digits of numbers from 1 to 1000 is:\", total_sum)\n"
   ]
  },
  {
   "cell_type": "markdown",
   "id": "5471b91c-c6c0-4a45-8339-ce37fceade70",
   "metadata": {},
   "source": [
    "40. Write a program that generates a list of prime palindromic numbers using list comprehension."
   ]
  },
  {
   "cell_type": "code",
   "execution_count": 13,
   "id": "6824b313-fd11-43d2-8bbe-17bf318bd4e3",
   "metadata": {},
   "outputs": [
    {
     "name": "stdout",
     "output_type": "stream",
     "text": [
      "[11, 101, 131, 151, 181, 191, 313, 353, 373, 383, 727, 757, 787, 797, 919, 929]\n"
     ]
    }
   ],
   "source": [
    "def is_prime(n):\n",
    "    if n <= 1:\n",
    "        return False\n",
    "    if n == 2:\n",
    "        return True\n",
    "    if n % 2 == 0:\n",
    "        return False\n",
    "    for i in range(3, int(n**0.5) + 1, 2):\n",
    "        if n % i == 0:\n",
    "            return False\n",
    "    return True\n",
    "def is_palindrome(n):\n",
    "    return str(n) == str(n)[::-1]\n",
    "limit = 1000\n",
    "prime_palindromes = [n for n in range(2, limit) if is_prime(n) and is_palindrome(n) and n>10]\n",
    "print(prime_palindromes)\n"
   ]
  },
  {
   "cell_type": "code",
   "execution_count": null,
   "id": "7ee268f9-6de7-4f88-ba5c-25049d7636f8",
   "metadata": {},
   "outputs": [],
   "source": []
  }
 ],
 "metadata": {
  "kernelspec": {
   "display_name": "Python 3 (ipykernel)",
   "language": "python",
   "name": "python3"
  },
  "language_info": {
   "codemirror_mode": {
    "name": "ipython",
    "version": 3
   },
   "file_extension": ".py",
   "mimetype": "text/x-python",
   "name": "python",
   "nbconvert_exporter": "python",
   "pygments_lexer": "ipython3",
   "version": "3.10.8"
  }
 },
 "nbformat": 4,
 "nbformat_minor": 5
}
